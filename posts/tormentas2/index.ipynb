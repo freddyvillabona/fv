{
  "cells": [
    {
      "cell_type": "raw",
      "metadata": {},
      "source": [
        "---\n",
        "execute:\n",
        "  message: false\n",
        "  warning: false\n",
        "  fig-show: no\n",
        "title: \"Tormentas tropical\"\n",
        "author: \"FV\"\n",
        "date: \"2024-05-18\"\n",
        "categories: [code, analysis]\n",
        "image: \"tormenta.png\"\n",
        "---"
      ],
      "id": "7debbd23"
    },
    {
      "cell_type": "markdown",
      "metadata": {},
      "source": [
        "Ciclones desde 2008 a 2022 - Datos: NOAA\n"
      ],
      "id": "1b3b466e"
    },
    {
      "cell_type": "code",
      "metadata": {},
      "source": [
        "#| label: fig-polar\n",
        "#| fig-cap: A line plot on a polar axis\n",
        "\n",
        "import numpy as np\n",
        "import matplotlib.pyplot as plt\n",
        "\n",
        "r = np.arange(0, 2, 0.01)\n",
        "theta = 2 * np.pi * r\n",
        "fig, ax = plt.subplots(\n",
        "  subplot_kw = {'projection': 'polar'} \n",
        ")\n",
        "ax.plot(theta, r)\n",
        "ax.set_rticks([0.5, 1, 1.5, 2])\n",
        "ax.grid(True)\n",
        "plt.show()"
      ],
      "id": "fig-polar",
      "execution_count": null,
      "outputs": []
    }
  ],
  "metadata": {
    "kernelspec": {
      "display_name": "Python 3",
      "language": "python",
      "name": "python3"
    }
  },
  "nbformat": 4,
  "nbformat_minor": 5
}