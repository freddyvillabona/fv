{
  "cells": [
    {
      "cell_type": "raw",
      "metadata": {},
      "source": [
        "---\n",
        "execute:\n",
        "  include: false\n",
        "#image: fv.jpg\n",
        "about:\n",
        "  template: jolla\n",
        "  links:\n",
        "    - icon: instagram\n",
        "      text: freddyvillabona\n",
        "      href: https://instagram.com/freddyvillabona\n",
        "      \n",
        "    - icon: instagram\n",
        "      text: programandoenr\n",
        "      href: https://instagram.com/programandoenr\n",
        "      \n",
        "    - icon: twitter\n",
        "      href: https://twitter.com/freddyvillabona\n",
        "      \n",
        "    - icon: facebook\n",
        "      href: https://facebook.com/programandoenr\n",
        "      \n",
        "    - icon: telegram\n",
        "      href: https://t.me/programandoinr\n",
        "      \n",
        "    - text: Email\n",
        "      href: mailto:freddyvillabonac@gmail.com\n",
        "---"
      ],
      "id": "24617b74"
    },
    {
      "cell_type": "markdown",
      "metadata": {},
      "source": [
        "#### ![](a.jpg){width=\"200\"}\n",
        "\n",
        "#### **`%>% Dreams`**\n",
        "\n",
        "**Freddy Villabona C.**\n",
        "\n",
        "###### Working as a data scientist at BBVA \\| [Resume](https://docs.google.com/document/d/1tK3Pr6gwD0YipuBWaxsrwVTeCnOuY7V82V6s0LOSIXk/edit?usp=sharing \"Resume (ES)\")\n",
        "\n",
        "###### [ProgramandoenR](https://freddyvillabona.github.io/fv/programandoenr.html) \\| [R Views](https://rviews.rstudio.com/) \\|\n",
        "\n",
        "Syndicated on [R-Bloggers](https://www.r-bloggers.com/author/dreams/) & [R Weekly](https://rweekly.org/)\n",
        "\n",
        "```{css, echo=FALSE}\n",
        ".title {\n",
        "  font-size: 100px;\n",
        "  font-style: italic;\n",
        "  color: blue;\n",
        "  font-family: Arial;\n",
        "  font-variant: small-caps;\n",
        "}"
      ],
      "id": "3f4cf1d6"
    }
  ],
  "metadata": {
    "kernelspec": {
      "display_name": "Python 3",
      "language": "python",
      "name": "python3"
    }
  },
  "nbformat": 4,
  "nbformat_minor": 5
}